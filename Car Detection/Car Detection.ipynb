{
 "cells": [
  {
   "cell_type": "code",
   "execution_count": 1,
   "id": "7511fd51-28e9-41a4-a263-dcc25f3df723",
   "metadata": {},
   "outputs": [],
   "source": [
    "import cv2\n",
    "cars_cascade = cv2.CascadeClassifier('cars.xml')"
   ]
  },
  {
   "cell_type": "code",
   "execution_count": 2,
   "id": "cd26fbcb-c2b5-47fd-9408-917e56846c12",
   "metadata": {},
   "outputs": [],
   "source": [
    "def detect_cars(frame):\n",
    "    cars = cars_cascade.detectMultiScale(frame, 1.15, 4)\n",
    "    for (x, y, w, h) in cars:\n",
    "        cv2.rectangle(frame, (x, y), (x+w,y+h), color=(0, 255, 0), thickness=2)\n",
    "    return frame"
   ]
  },
  {
   "cell_type": "code",
   "execution_count": 5,
   "id": "e7006d79-f5f7-4557-8f4c-e3b9f3cc68e5",
   "metadata": {},
   "outputs": [],
   "source": [
    "def Simulator():\n",
    "    CarVideo = cv2.VideoCapture('Cars.mp4.mp4')\n",
    "    while CarVideo.isOpened():\n",
    "        ret, frame = CarVideo.read()\n",
    "        controlkey = cv2.waitKey(1)\n",
    "        if ret:        \n",
    "            cars_frame = detect_cars(frame)\n",
    "            cv2.imshow('frame', cars_frame)\n",
    "        else:\n",
    "            break\n",
    "        if controlkey == ord('q'):\n",
    "            break\n",
    "\n",
    "    CarVideo.release()\n",
    "    cv2.destroyAllWindows()\n",
    "    \n",
    "if __name__ == '__main__':\n",
    "    Simulator()"
   ]
  },
  {
   "cell_type": "code",
   "execution_count": null,
   "id": "145b7381-733c-4050-a4b0-d80e3a2c5e40",
   "metadata": {},
   "outputs": [],
   "source": []
  },
  {
   "cell_type": "code",
   "execution_count": null,
   "id": "9a12b391-cf9b-4328-97f6-414182e49efd",
   "metadata": {},
   "outputs": [],
   "source": []
  }
 ],
 "metadata": {
  "kernelspec": {
   "display_name": "Python 3 (ipykernel)",
   "language": "python",
   "name": "python3"
  },
  "language_info": {
   "codemirror_mode": {
    "name": "ipython",
    "version": 3
   },
   "file_extension": ".py",
   "mimetype": "text/x-python",
   "name": "python",
   "nbconvert_exporter": "python",
   "pygments_lexer": "ipython3",
   "version": "3.10.0"
  }
 },
 "nbformat": 4,
 "nbformat_minor": 5
}
